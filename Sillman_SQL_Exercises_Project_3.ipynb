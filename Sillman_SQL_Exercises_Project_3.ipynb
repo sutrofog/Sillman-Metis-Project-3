{
 "cells": [
  {
   "cell_type": "markdown",
   "id": "structural-adjustment",
   "metadata": {},
   "source": [
    "**SQL Exercises for Project 3**"
   ]
  },
  {
   "cell_type": "markdown",
   "id": "powerful-nudist",
   "metadata": {},
   "source": [
    "Part 1: W3Schools SQL Lab\n",
    "\n",
    "Introductory level SQL\n",
    "\n",
    "--\n",
    "\n",
    "This challenge uses the W3Schools SQL playground. Please add solutions to this markdown file and submit.\n",
    "\n",
    "**Which customers are from the UK?**\n",
    "SELECT CustomerName FROM Customers\n",
    "WHERE Country = 'UK';\n",
    "\n",
    "Around the Horn \n",
    "B's Beverages \n",
    "Consolidated Holdings \n",
    "Eastern Connection \n",
    "Island Trading \n",
    "North/South \n",
    "Seven Seas Imports \n",
    "\n",
    "**What is the name of the customer who has the most orders?**\n",
    "SELECT CustomerID, count(*) AS num_orders FROM Orders\n",
    "GROUP BY CustomerID;\n",
    "CustomerID 20 has 10 orders. \n",
    "SELECT * FROM Customers WHERE CustomerID=20;\n",
    "CustomerName\n",
    "Ernst Handel \n",
    "\n",
    "**Which supplier has the highest average product price?**\n",
    "\n",
    "SELECT SupplierID, AVG(Price) FROM Products GROUP BY SupplierID ORDER BY AVG(Price);\n",
    "Then a second search: \n",
    "SELECT * FROM Suppliers WHERE SupplierID=18;\n",
    "Supplier 18 (Aux joyeux ecclésiastiques) has the highest average product price, 140.75\n",
    "\n",
    "**How many different countries are all the customers from? (Hint: consider DISTINCT.)**\n",
    "SELECT DISTINCT Country FROM Customers GROUP BY Country;\n",
    "Number of Records: 21\n",
    "The customers are from 21 different countries.\n",
    "\n",
    "**What category appears in the most orders?**\n",
    "SELECT Products.CategoryID, OrderDetails.OrderID, COUNT(OrderID) as num_Orders\n",
    "FROM Products\n",
    "LEFT JOIN OrderDetails\n",
    "ON Products.ProductID=OrderDetails.ProductID\n",
    "GROUP BY CategoryID\n",
    "ORDER BY COUNT(OrderID);\n",
    "\n",
    "Category 4 appears in the most orders--it appears in 100 orders.\n",
    "\n",
    "**What was the total cost for each order?**\n",
    "SELECT OrderDetails.OrderID, SUM (OrderDetails.Quantity*Products.Price) as order_total_price\n",
    "FROM OrderDetails\n",
    "LEFT JOIN Products ON OrderDetails.ProductID=Products.ProductID\n",
    "GROUP BY OrderDetails.OrderID;\n",
    "\n",
    "**Which employee made the most sales (by total price)?**\n",
    "\n",
    "\n",
    "**Which employees have BS degrees? (Hint: look at the LIKE operator.)**\n",
    "\n",
    "\n",
    "**Which supplier of three or more products has the highest average product price? (Hint: look at the HAVING operator.)**\n"
   ]
  },
  {
   "cell_type": "code",
   "execution_count": null,
   "id": "dramatic-beatles",
   "metadata": {},
   "outputs": [],
   "source": []
  }
 ],
 "metadata": {
  "kernelspec": {
   "display_name": "Python [conda env:.conda-metis] *",
   "language": "python",
   "name": "conda-env-.conda-metis-py"
  },
  "language_info": {
   "codemirror_mode": {
    "name": "ipython",
    "version": 3
   },
   "file_extension": ".py",
   "mimetype": "text/x-python",
   "name": "python",
   "nbconvert_exporter": "python",
   "pygments_lexer": "ipython3",
   "version": "3.8.6"
  }
 },
 "nbformat": 4,
 "nbformat_minor": 5
}
